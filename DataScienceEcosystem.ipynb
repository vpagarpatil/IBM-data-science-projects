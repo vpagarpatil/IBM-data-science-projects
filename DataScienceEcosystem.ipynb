{
  "metadata": {
    "kernelspec": {
      "name": "python",
      "display_name": "Python (Pyodide)",
      "language": "python"
    },
    "language_info": {
      "codemirror_mode": {
        "name": "python",
        "version": 3
      },
      "file_extension": ".py",
      "mimetype": "text/x-python",
      "name": "python",
      "nbconvert_exporter": "python",
      "pygments_lexer": "ipython3",
      "version": "3.8"
    }
  },
  "nbformat_minor": 5,
  "nbformat": 4,
  "cells": [
    {
      "id": "854c1b67-6c35-44a5-9be3-5cc3c99363a7",
      "cell_type": "markdown",
      "source": "# Data Science and tool\n",
      "metadata": {}
    },
    {
      "id": "ef748d5e-2179-4c92-add9-35839ae1ac18",
      "cell_type": "markdown",
      "source": "## In This Notebook , Data Science tools and ecosystem are summerised.",
      "metadata": {}
    },
    {
      "id": "b2211c95-306e-4460-8986-7bda4bb4d0b8",
      "cell_type": "markdown",
      "source": "some of these popular languages that data scientists are use:\n1. Python\n2. sql\n3. C++",
      "metadata": {}
    },
    {
      "id": "672abb85-2190-4d5a-95a9-63df51a35713",
      "cell_type": "markdown",
      "source": "some fo this are used as libraries\n1. pandas\n2. numpy\n3. matplotlib\n4. scikitlearn\n5. seaborn\n6. keras\n7. pytorch",
      "metadata": {}
    },
    {
      "id": "ca0a41d3-68ef-40b9-913c-f443602d2fcb",
      "cell_type": "markdown",
      "source": "|Data Science Tools|\n|---|\n|SAS|\n|Apache Hadoop|\n|TensorFlow|",
      "metadata": {}
    },
    {
      "id": "c1cbadac-5fa4-4888-a636-50b7e11bc2be",
      "cell_type": "markdown",
      "source": "Below are few examples of the evaluating arithematic expressions in python.",
      "metadata": {}
    },
    {
      "id": "e8d34186-f423-48dc-bcd6-e8f0c1dc124f",
      "cell_type": "code",
      "source": "#this is a common arithimatic example to multiply and then add intigers\n(3*4)+5",
      "metadata": {
        "trusted": true
      },
      "outputs": [
        {
          "execution_count": 1,
          "output_type": "execute_result",
          "data": {
            "text/plain": "17"
          },
          "metadata": {}
        }
      ],
      "execution_count": 1
    },
    {
      "id": "b257d33e-26fd-41b2-a745-5d2f4f5d80d4",
      "cell_type": "code",
      "source": " # this whill convert 200 min to hours by dividing by 60\n200/60",
      "metadata": {
        "trusted": true
      },
      "outputs": [
        {
          "execution_count": 2,
          "output_type": "execute_result",
          "data": {
            "text/plain": "3.3333333333333335"
          },
          "metadata": {}
        }
      ],
      "execution_count": 2
    },
    {
      "id": "f1b88c60-8795-465c-9485-5e0627a8013a",
      "cell_type": "markdown",
      "source": "---Objectives---\n1. List popullar languages for data science\n2. list pulullar libraries for data science\n3. list of well known data science tools\n4. how to provide comments in the cell",
      "metadata": {}
    },
    {
      "id": "643eaf2a-285c-43e2-8a0b-9dd896811ca9",
      "cell_type": "markdown",
      "source": "# Author - Vaibhav Pagar",
      "metadata": {}
    },
    {
      "id": "033f5488-2457-4552-bfac-ecf824e4e1dd",
      "cell_type": "code",
      "source": "",
      "metadata": {
        "trusted": true
      },
      "outputs": [],
      "execution_count": null
    }
  ]
}